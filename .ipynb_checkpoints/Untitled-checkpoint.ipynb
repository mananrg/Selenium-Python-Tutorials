{
 "cells": [
  {
   "cell_type": "code",
   "execution_count": 1,
   "id": "b1b44a6f",
   "metadata": {},
   "outputs": [],
   "source": [
    "from selenium import webdriver\n",
    "from selenium.webdriver.common.by import By\n",
    "from selenium.webdriver.common.keys import Keys\n",
    "from selenium.webdriver.support.ui import WebDriverWait\n",
    "from selenium.webdriver.support import expected_conditions as EC\n",
    "import time"
   ]
  },
  {
   "cell_type": "code",
   "execution_count": 2,
   "id": "4b316584",
   "metadata": {},
   "outputs": [
    {
     "name": "stdout",
     "output_type": "stream",
     "text": [
      "Flutter - Build apps for any screen\n"
     ]
    }
   ],
   "source": [
    "driver = webdriver.Chrome(\"C:\\chromedriver.exe\")\n",
    "driver.get(\"https://flutter.dev/\")\n",
    "driver.maximize_window()\n",
    "print(driver.title)"
   ]
  },
  {
   "cell_type": "code",
   "execution_count": 3,
   "id": "d4628d9c",
   "metadata": {},
   "outputs": [
    {
     "name": "stdout",
     "output_type": "stream",
     "text": [
      "GET STARTED ELEMENT LOCATION\n"
     ]
    }
   ],
   "source": [
    "try:\n",
    "    get_started = WebDriverWait(driver, 10).until(EC.presence_of_element_located((By.LINK_TEXT,\"Get started\"))\n",
    "    )\n",
    "    print(\"GET STARTED ELEMENT LOCATION\")\n",
    "    get_started.click()\n",
    "except:\n",
    "    print(\"Get Started Not found\")"
   ]
  },
  {
   "cell_type": "code",
   "execution_count": 9,
   "id": "1f30eca6",
   "metadata": {},
   "outputs": [
    {
     "name": "stdout",
     "output_type": "stream",
     "text": [
      "Search Component Found\n"
     ]
    }
   ],
   "source": [
    "try:\n",
    "    search_component = WebDriverWait(driver,10).until(EC.presence_of_element_located((By.ID,\"q\")))\n",
    "    print(\"Search Component Found\")\n",
    "    search_component.click()\n",
    "    search_component.clear()\n",
    "\n",
    "except:\n",
    "    print(\"Search Component Not found\")"
   ]
  },
  {
   "cell_type": "markdown",
   "id": "8412afbd",
   "metadata": {},
   "source": [
    "### Send Keys"
   ]
  },
  {
   "cell_type": "code",
   "execution_count": 10,
   "id": "4fcab8c0",
   "metadata": {},
   "outputs": [],
   "source": [
    "# entering search element\n",
    "try:\n",
    "    search_component.send_keys(\"Android\")\n",
    "    search_component.send_keys(Keys.RETURN)\n",
    "except:\n",
    "    time.sleep(3)\n",
    "    print(\"Inside Exception\")\n",
    "    search_component.send_keys(\"Android\")\n",
    "    search_component.send_keys(Keys.RETURN)\n",
    "finally:\n",
    "    pass"
   ]
  },
  {
   "cell_type": "code",
   "execution_count": 6,
   "id": "5f7efd12",
   "metadata": {},
   "outputs": [
    {
     "name": "stdout",
     "output_type": "stream",
     "text": [
      "Flutter for Android developers | Flutter\n",
      "docs.flutter.dev › get-started › flutter-for › android-devs\n",
      "Flutter's plugin architecture, in a nutshell, is much like using an Event bus in Android: you fire off a message and let the receiver process and emit a result ...\n",
      "Build and release an Android app | Flutter\n",
      "docs.flutter.dev › deployment › android\n",
      "Build and release an Android app · Adding a launcher icon · Enabling Material Components · Sign the app. Create an upload keystore · Shrinking your code with R8 ...\n",
      "macOS install | Flutter\n",
      "docs.flutter.dev › Get started › Install\n",
      "[-] Android toolchain - develop for Android devices • Android SDK at /Users/dash/Library/Android/sdk ✗ Android SDK is missing command line tools; download ...\n",
      "Hosting native Android views in your Flutter app with Platform Views ...\n",
      "docs.flutter.dev › Platform integration › Android\n",
      "Hosting native Android views in your Flutter app with Platform Views ... Platform views allow you to embed native views in a Flutter app, so you can apply ...\n",
      "Windows install | Flutter\n",
      "docs.flutter.dev › Get started › Install\n",
      "System requirements · Get the Flutter SDK. Update your path; Run flutter doctor · Android setup. Install Android Studio; Set up your Android device; Set up the ...\n",
      "Binding to native Android code using dart:ffi | Flutter\n",
      "docs.flutter.dev › Platform integration › Android\n",
      "Binding to native Android code using dart:ffi ... Flutter mobile and desktop apps can use the dart:ffi library to call native C APIs. FFI stands for foreign ...\n",
      "Set up app links for Android | Flutter\n",
      "docs.flutter.dev › Cookbook › Navigation\n",
      "Set up app links for Android · To create a new application, type flutter create <app-name> : content_copy. $ flutter create deeplink_cookbook · To include ...\n",
      "Set up an editor | Flutter\n",
      "docs.flutter.dev › get-started › editor\n",
      "... Android Studio, or IntelliJ. If you choose another IDE, skip ahead to the next step: Test drive. Visual Studio Code; Android Studio and IntelliJ. Install VS ...\n",
      "Android Studio and IntelliJ | Flutter\n",
      "docs.flutter.dev › tools › android-studio\n",
      "Creating a new project · In the IDE, click New Flutter Project from the Welcome window or File > New > New Flutter Project from the main IDE window. · Specify ...\n",
      "Flutter on Mobile\n",
      "flutter.dev › multi-platform › mobile\n",
      "Bring your app idea to life to more users from day one by building with Flutter on iOS and Android simultaneously, without sacrificing features, quality, ...\n"
     ]
    }
   ],
   "source": [
    "try:\n",
    "    search_result = WebDriverWait(driver,10).until(EC.presence_of_element_located((By.CLASS_NAME,\"gsc-expansionArea\")))\n",
    "    print(search_result.text)\n",
    "except:\n",
    "    print(\"Cannot find search result outcome\")\n",
    "finally:\n",
    "    driver.quit()"
   ]
  },
  {
   "cell_type": "markdown",
   "id": "0ae2491b",
   "metadata": {},
   "source": [
    "## Navigate between different pages"
   ]
  },
  {
   "cell_type": "code",
   "execution_count": 14,
   "id": "95da0ae9",
   "metadata": {},
   "outputs": [],
   "source": [
    "driver = webdriver.Chrome(\"C:\\chromedriver.exe\")"
   ]
  },
  {
   "cell_type": "code",
   "execution_count": 15,
   "id": "94664980",
   "metadata": {},
   "outputs": [],
   "source": [
    "link = driver.get(\"https://flutter.dev/\")"
   ]
  },
  {
   "cell_type": "code",
   "execution_count": 20,
   "id": "527bd13a",
   "metadata": {},
   "outputs": [
    {
     "name": "stdout",
     "output_type": "stream",
     "text": [
      "https://flutter.dev/\n",
      "https://flutter.dev/development\n"
     ]
    }
   ],
   "source": [
    "try:\n",
    "    print(driver.current_url)\n",
    "    development_btn = WebDriverWait(driver,10).until(EC.presence_of_element_located((By.LINK_TEXT,\"Development\")))\n",
    "    development_btn.click()\n",
    "    print(driver.current_url)\n",
    "except:\n",
    "    print(\"Could not find\")"
   ]
  },
  {
   "cell_type": "markdown",
   "id": "3fcc907d",
   "metadata": {},
   "source": [
    "### Going back to previous page"
   ]
  },
  {
   "cell_type": "code",
   "execution_count": 21,
   "id": "5bc1aa3d",
   "metadata": {},
   "outputs": [
    {
     "name": "stdout",
     "output_type": "stream",
     "text": [
      "https://flutter.dev/\n"
     ]
    }
   ],
   "source": [
    "driver.back()\n",
    "print(driver.current_url)"
   ]
  },
  {
   "cell_type": "markdown",
   "id": "b283940b",
   "metadata": {},
   "source": [
    "### Going forward page"
   ]
  },
  {
   "cell_type": "code",
   "execution_count": 22,
   "id": "04f690d9",
   "metadata": {},
   "outputs": [
    {
     "name": "stdout",
     "output_type": "stream",
     "text": [
      "https://flutter.dev/development\n"
     ]
    }
   ],
   "source": [
    "driver.forward()\n",
    "print(driver.current_url)\n",
    "driver.quit()"
   ]
  },
  {
   "cell_type": "markdown",
   "id": "b72aca53",
   "metadata": {},
   "source": [
    "### XPATH"
   ]
  },
  {
   "cell_type": "code",
   "execution_count": 11,
   "id": "a0c2ab55",
   "metadata": {},
   "outputs": [],
   "source": [
    "driver = webdriver.Chrome(\"C:\\chromedriver.exe\")\n",
    "link = driver.get(\"https://flutter.dev/\")"
   ]
  },
  {
   "cell_type": "code",
   "execution_count": null,
   "id": "43631642",
   "metadata": {},
   "outputs": [],
   "source": []
  }
 ],
 "metadata": {
  "kernelspec": {
   "display_name": "Python 3 (ipykernel)",
   "language": "python",
   "name": "python3"
  },
  "language_info": {
   "codemirror_mode": {
    "name": "ipython",
    "version": 3
   },
   "file_extension": ".py",
   "mimetype": "text/x-python",
   "name": "python",
   "nbconvert_exporter": "python",
   "pygments_lexer": "ipython3",
   "version": "3.11.4"
  }
 },
 "nbformat": 4,
 "nbformat_minor": 5
}
